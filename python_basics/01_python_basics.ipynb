{
 "cells": [
  {
   "cell_type": "markdown",
   "metadata": {},
   "source": [
    "## Задание №1"
   ]
  },
  {
   "cell_type": "markdown",
   "metadata": {},
   "source": [
    "Проверить какая из этих строк длинеее"
   ]
  },
  {
   "cell_type": "code",
   "execution_count": null,
   "metadata": {},
   "outputs": [],
   "source": [
    "phrase_1 = 'Насколько проще было бы писать программы, если бы не заказчики'\n",
    "phrase_2 = '640Кб должно хватить для любых задач. Билл Гейтс (по легенде)'\n",
    "    \n",
    "if len(phrase_1) > len(phrase_2):\n",
    "    print('Фраза 1 длиннее фразы 2')\n",
    "    \n",
    "elif len(phrase_1) < len(phrase_2):\n",
    "    print('Фраза 2 длиннее фразы 1')\n",
    "\n",
    "else:\n",
    "    print('Фразы равной длины')"
   ]
  },
  {
   "cell_type": "markdown",
   "metadata": {},
   "source": [
    "## Задание №2"
   ]
  },
  {
   "cell_type": "markdown",
   "metadata": {},
   "source": [
    "Написать программу, которая показывает, является ли год високосным или обычным.\n",
    "\n",
    "Согласно Википедии, для определения високосного или обычного года используют три критерия:\n",
    "\n",
    "- обычный год кратен 100\n",
    "- високосный год кратен 400 (если столетие)\n",
    "- високосный год 4 (для остальных годов)\n",
    "\n",
    "Надо проверить кратность года на все эти цифры."
   ]
  },
  {
   "cell_type": "code",
   "execution_count": null,
   "metadata": {},
   "outputs": [],
   "source": [
    "year = int(input('Введите год: '))\n",
    "\n",
    "if year % 4 != 0 or year % 100 == 0 and year % 400 == 0:\n",
    "    print('Обычный')\n",
    "else:\n",
    "    print('Високосный')\n"
   ]
  },
  {
   "cell_type": "markdown",
   "metadata": {},
   "source": [
    "## Задание №3"
   ]
  },
  {
   "cell_type": "markdown",
   "metadata": {},
   "source": [
    "Написать программу, которая будет запрашивать у пользователя месяц и дату рождения и выводить соответствующий знак зодиака"
   ]
  },
  {
   "cell_type": "code",
   "execution_count": null,
   "metadata": {},
   "outputs": [],
   "source": [
    "date = int(input('Введите день рождения: '))\n",
    "month = int(input('Введите месяц рождения (цифрами, от 1 до 12): '))\n",
    "\n",
    "if (date >= 20 and date <= 31 and month == 1) or (date >= 1 and date <= 18 and month == 2):\n",
    "    print('Ваш знак зодиака: Водолей')\n",
    "    \n",
    "elif (date >= 19 and date <= 28 and month == 2) or (date >= 1 and date <= 20 and month == 3):\n",
    "    print('Ваш знак зодиака: Рыбы')\n",
    "    \n",
    "elif (date >= 21 and date <= 31 and month == 3) or (date >= 1 and date <= 19 and month == 4):\n",
    "    print('Ваш знак зодиака: Овен')\n",
    "\n",
    "elif (date >= 20 and date <= 30 and month == 4) or (date >= 1 and date <= 20 and month == 5):\n",
    "    print('Ваш знак зодиака: Телец')\n",
    "\n",
    "elif (date >= 21 and date <= 31 and month == 5) or (date >= 1 and date <= 20 and month == 6):\n",
    "    print('Ваш знак зодиака: Близнецы')\n",
    "\n",
    "elif (date >= 21 and date <= 30 and month == 6) or (date >= 1 and date <= 22 and month == 7):\n",
    "    print('Ваш знак зодиака: Рак')\n",
    "    \n",
    "elif (date >= 23 and date <= 31 and month == 7) or (date >= 1 and date <= 22 and month == 8):\n",
    "    print('Ваш знак зодиака: Лев')\n",
    "\n",
    "elif (date >= 23 and date <= 31 and month == 8) or (date >= 1 and date <= 22 and month == 9):\n",
    "    print('Ваш знак зодиака: Дева')\n",
    "\n",
    "elif (date >= 23 and date <= 30 and month == 9) or (date >= 1 and date <= 22 and month == 10):\n",
    "    print('Ваш знак зодиака: Весы')\n",
    "    \n",
    "elif (date >= 23 and date <= 31 and month == 10) or (date >= 1 and date <= 21 and month == 11):\n",
    "    print('Ваш знак зодиака: Скорпион')\n",
    "    \n",
    "elif (date >= 22 and date <= 30 and month == 11) or (date >= 1 and date <= 21 and month == 12):\n",
    "    print('Ваш знак зодиака: Стрелец')\n",
    "    \n",
    "elif (date >= 22 and date <= 31 and month == 12) or (date >= 1 and date <= 19 and month == 1):\n",
    "    print('Ваш знак зодиака: Козерог')"
   ]
  },
  {
   "cell_type": "markdown",
   "metadata": {},
   "source": [
    "## Задание №4"
   ]
  },
  {
   "cell_type": "markdown",
   "metadata": {},
   "source": [
    "Написать программу для подбора упаковок по размерам товара."
   ]
  },
  {
   "cell_type": "code",
   "execution_count": 1,
   "metadata": {},
   "outputs": [
    {
     "name": "stdout",
     "output_type": "stream",
     "text": [
      "Введите ширину, см: 23\n",
      "Введите длину, см: 32\n",
      "Введите высоту, см: 43\n",
      "Коробка №2\n"
     ]
    }
   ],
   "source": [
    "width = int(input(\"Введите ширину, см: \"))\n",
    "length = int(input(\"Введите длину, см: \"))\n",
    "height = int(input(\"Введите высоту, см: \"))\n",
    "\n",
    "if (width < 15 and length < 15 and height < 15):\n",
    "    print(\"Коробка №1\")\n",
    "\n",
    "elif (width > 15 and width < 50) or (length > 15 and width < 50) or (height > 15 and width < 50):\n",
    "    print(\"Коробка №2\")\n",
    "\n",
    "elif (length > 200):\n",
    "    print(\"Упаковка для лыж\")\n",
    "    \n",
    "else:\n",
    "    print(\"Стандартная коробка №3\")"
   ]
  }
 ],
 "metadata": {
  "kernelspec": {
   "display_name": "Python 3",
   "language": "python",
   "name": "python3"
  },
  "language_info": {
   "codemirror_mode": {
    "name": "ipython",
    "version": 3
   },
   "file_extension": ".py",
   "mimetype": "text/x-python",
   "name": "python",
   "nbconvert_exporter": "python",
   "pygments_lexer": "ipython3",
   "version": "3.8.5"
  }
 },
 "nbformat": 4,
 "nbformat_minor": 4
}
